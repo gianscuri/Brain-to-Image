{
 "cells": [
  {
   "cell_type": "code",
   "execution_count": 544,
   "metadata": {},
   "outputs": [],
   "source": [
    "import os\n",
    "from sklearn.neighbors import KDTree\n",
    "import joblib\n",
    "import numpy as np\n",
    "import pandas as pd\n",
    "import torch\n",
    "from torch.utils.data import Dataset, DataLoader\n",
    "from ignite.metrics import Loss, RootMeanSquaredError"
   ]
  },
  {
   "cell_type": "markdown",
   "metadata": {},
   "source": [
    "## Intro"
   ]
  },
  {
   "cell_type": "code",
   "execution_count": 545,
   "metadata": {},
   "outputs": [],
   "source": [
    "# id = 1 # da 0 a 200"
   ]
  },
  {
   "cell_type": "code",
   "execution_count": 546,
   "metadata": {},
   "outputs": [],
   "source": [
    "# Paths\n",
    "path_EEG = '../data/THINGS-EEG2/preprocessed_data/sub-01/preprocessed_eeg_test.npy'\n",
    "path_feat = '../data/THINGS/Images_features/resnet18/'\n",
    "path_regr = '../trained_models/Regression_EEG-FEAT/'\n",
    "path_tree = '../trained_models/Retrieval_IMG/kdtree.joblib'"
   ]
  },
  {
   "cell_type": "markdown",
   "metadata": {},
   "source": [
    "## From FEAT_EEG to FEAT_IMG"
   ]
  },
  {
   "cell_type": "code",
   "execution_count": 547,
   "metadata": {},
   "outputs": [
    {
     "data": {
      "text/plain": [
       "['model_100_rmse8.0252.pt']"
      ]
     },
     "execution_count": 547,
     "metadata": {},
     "output_type": "execute_result"
    }
   ],
   "source": [
    "path_mod = '../trained_models/Allignement/'\n",
    "n_classes = 100\n",
    "names = sorted([i for i in os.listdir(path_mod) if i[6:9] == str(n_classes)], reverse=False)\n",
    "names"
   ]
  },
  {
   "cell_type": "code",
   "execution_count": 548,
   "metadata": {},
   "outputs": [
    {
     "data": {
      "text/plain": [
       "'model_100_rmse8.0252.pt'"
      ]
     },
     "execution_count": 548,
     "metadata": {},
     "output_type": "execute_result"
    }
   ],
   "source": [
    "best_name = names[0]\n",
    "best_name"
   ]
  },
  {
   "cell_type": "code",
   "execution_count": 549,
   "metadata": {},
   "outputs": [
    {
     "data": {
      "text/plain": [
       "FC(\n",
       "  (linear): Linear(in_features=100, out_features=100, bias=True)\n",
       ")"
      ]
     },
     "execution_count": 549,
     "metadata": {},
     "output_type": "execute_result"
    }
   ],
   "source": [
    "model = torch.load(os.path.join(path_mod, best_name))\n",
    "model"
   ]
  },
  {
   "cell_type": "code",
   "execution_count": 550,
   "metadata": {},
   "outputs": [],
   "source": [
    "# train set\n",
    "class Dataset(Dataset):\n",
    "  # Class to create the dataset\n",
    "  def __init__(self):\n",
    "    # EEG FEATURES\n",
    "    path = '../data/THINGS-EEG2/preprocessed_data_features/sub-01/preprocessed_eeg_training.npy'\n",
    "    feat_eeg = np.load(path, allow_pickle=True)\n",
    "    # feat_eeg = np.median(np.split(feat_eeg, 200), axis=1) # media o mediana\n",
    "    print('eeg', feat_eeg.shape)\n",
    "\n",
    "    # IMG FEATURES\n",
    "    path = '../data/THINGS-EEG2/image_set_features/resnet18/training_images_100_mean.npy'\n",
    "    feat_img = np.load(path, allow_pickle=True)\n",
    "    feat_img = np.repeat(feat_img, 4, axis=0)\n",
    "    print('img', feat_img.shape)\n",
    "\n",
    "    # only test img and first 100 classes\n",
    "    path = '../data/THINGS-EEG2/image_metadata/split_rep_train.npy'\n",
    "    test_idx = np.load(path, allow_pickle=True)[:4*100]\n",
    "    print('test', test_idx.shape)\n",
    "    feat_eeg = feat_eeg[test_idx]\n",
    "    feat_img = feat_img[test_idx]\n",
    "\n",
    "    self.X = torch.from_numpy(feat_eeg).type(torch.FloatTensor).to('cuda')\n",
    "    self.Y = torch.from_numpy(feat_img).type(torch.FloatTensor).to('cuda')\n",
    "    self.len = self.X.shape[0]\n",
    "\n",
    "  def __len__(self):\n",
    "    return self.len\n",
    "  \n",
    "  def __getitem__(self, index):\n",
    "    return self.X[index], self.Y[index]"
   ]
  },
  {
   "cell_type": "code",
   "execution_count": 551,
   "metadata": {},
   "outputs": [],
   "source": [
    "# # test set\n",
    "# class Dataset(Dataset):\n",
    "#   # Class to create the dataset\n",
    "#   def __init__(self):\n",
    "#     # EEG FEATURES\n",
    "#     path = '../data/THINGS-EEG2/preprocessed_data_features/sub-01/preprocessed_eeg_test.npy'\n",
    "#     feat_eeg = np.load(path, allow_pickle=True)\n",
    "#     # feat_eeg = np.median(np.split(feat_eeg, 200), axis=1) # media o mediana\n",
    "#     print(feat_eeg.shape)\n",
    "\n",
    "#     # IMG FEATURES\n",
    "#     path = '../data/THINGS-EEG2/image_set_features/resnet18/test_images_100.npy'\n",
    "#     feat_img = np.load(path, allow_pickle=True)\n",
    "#     feat_img = np.repeat(feat_img, 80, axis=0)\n",
    "#     print(feat_img.shape)\n",
    "\n",
    "#     self.X = torch.from_numpy(feat_eeg).type(torch.FloatTensor).to('cuda')\n",
    "#     self.Y = torch.from_numpy(feat_img).type(torch.FloatTensor).to('cuda')\n",
    "#     self.len = self.X.shape[0]\n",
    "\n",
    "#   def __len__(self):\n",
    "#     return self.len\n",
    "  \n",
    "#   def __getitem__(self, index):\n",
    "#     return self.X[index], self.Y[index]"
   ]
  },
  {
   "cell_type": "code",
   "execution_count": 552,
   "metadata": {},
   "outputs": [
    {
     "name": "stdout",
     "output_type": "stream",
     "text": [
      "eeg (66160, 100)\n",
      "img (66160, 100)\n",
      "test (400,)\n"
     ]
    },
    {
     "data": {
      "text/plain": [
       "100"
      ]
     },
     "execution_count": 552,
     "metadata": {},
     "output_type": "execute_result"
    }
   ],
   "source": [
    "test = DataLoader(Dataset(), batch_size=4, shuffle=False, drop_last=False)\n",
    "test.__len__()"
   ]
  },
  {
   "cell_type": "code",
   "execution_count": 553,
   "metadata": {},
   "outputs": [],
   "source": [
    "rmse = RootMeanSquaredError()"
   ]
  },
  {
   "cell_type": "code",
   "execution_count": 554,
   "metadata": {},
   "outputs": [
    {
     "name": "stdout",
     "output_type": "stream",
     "text": [
      "RMSE: 6.401962408563804\n"
     ]
    },
    {
     "data": {
      "text/plain": [
       "(400, 100)"
      ]
     },
     "execution_count": 554,
     "metadata": {},
     "output_type": "execute_result"
    }
   ],
   "source": [
    "model.eval()\n",
    "\n",
    "test_feat = []\n",
    "\n",
    "for batch in test:\n",
    "    rmse.reset()\n",
    "\n",
    "    X = batch[0]\n",
    "    y = batch[1]\n",
    "    # print(np.max(X.cpu().numpy()), np.min(X.cpu().numpy()))\n",
    "\n",
    "    pred = model(X)\n",
    "    test_feat.append(pred.detach().cpu().numpy())\n",
    "\n",
    "    rmse.update((pred, y))\n",
    "\n",
    "print('RMSE:', rmse.compute())\n",
    "\n",
    "test_feat = np.concatenate(test_feat)\n",
    "test_feat.shape"
   ]
  },
  {
   "cell_type": "code",
   "execution_count": 555,
   "metadata": {},
   "outputs": [
    {
     "data": {
      "text/plain": [
       "(-0.030199323, -6.9676266, 9.234492)"
      ]
     },
     "execution_count": 555,
     "metadata": {},
     "output_type": "execute_result"
    }
   ],
   "source": [
    "np.mean(test_feat), np.min(test_feat), np.max(test_feat)"
   ]
  },
  {
   "cell_type": "markdown",
   "metadata": {},
   "source": [
    "## From IMG_FEAT to IMAGE"
   ]
  },
  {
   "cell_type": "markdown",
   "metadata": {},
   "source": [
    "#### Query"
   ]
  },
  {
   "cell_type": "code",
   "execution_count": 556,
   "metadata": {},
   "outputs": [],
   "source": [
    "# Load tree\n",
    "tree = joblib.load(path_tree)"
   ]
  },
  {
   "cell_type": "code",
   "execution_count": 557,
   "metadata": {},
   "outputs": [
    {
     "data": {
      "text/plain": [
       "((400, 10), (400, 10))"
      ]
     },
     "execution_count": 557,
     "metadata": {},
     "output_type": "execute_result"
    }
   ],
   "source": [
    "# Query the tree\n",
    "k = 10\n",
    "dist, ind = tree.query(test_feat, k=k) # query the tree\n",
    "dist.shape, ind.shape"
   ]
  },
  {
   "cell_type": "code",
   "execution_count": 558,
   "metadata": {},
   "outputs": [
    {
     "data": {
      "text/plain": [
       "(978,)"
      ]
     },
     "execution_count": 558,
     "metadata": {},
     "output_type": "execute_result"
    }
   ],
   "source": [
    "np.unique(ind).shape # se funzionasse perfettamente dovrebbe essere 1000"
   ]
  },
  {
   "cell_type": "code",
   "execution_count": 559,
   "metadata": {},
   "outputs": [
    {
     "name": "stdout",
     "output_type": "stream",
     "text": [
      "(23212, 3)\n"
     ]
    },
    {
     "data": {
      "text/html": [
       "<div>\n",
       "<style scoped>\n",
       "    .dataframe tbody tr th:only-of-type {\n",
       "        vertical-align: middle;\n",
       "    }\n",
       "\n",
       "    .dataframe tbody tr th {\n",
       "        vertical-align: top;\n",
       "    }\n",
       "\n",
       "    .dataframe thead th {\n",
       "        text-align: right;\n",
       "    }\n",
       "</style>\n",
       "<table border=\"1\" class=\"dataframe\">\n",
       "  <thead>\n",
       "    <tr style=\"text-align: right;\">\n",
       "      <th></th>\n",
       "      <th>name</th>\n",
       "      <th>idx</th>\n",
       "      <th>class</th>\n",
       "    </tr>\n",
       "  </thead>\n",
       "  <tbody>\n",
       "    <tr>\n",
       "      <th>0</th>\n",
       "      <td>aardvark_01b.jpg</td>\n",
       "      <td>True</td>\n",
       "      <td>aardvark</td>\n",
       "    </tr>\n",
       "    <tr>\n",
       "      <th>1</th>\n",
       "      <td>aardvark_02s.jpg</td>\n",
       "      <td>True</td>\n",
       "      <td>aardvark</td>\n",
       "    </tr>\n",
       "    <tr>\n",
       "      <th>2</th>\n",
       "      <td>aardvark_03s.jpg</td>\n",
       "      <td>True</td>\n",
       "      <td>aardvark</td>\n",
       "    </tr>\n",
       "    <tr>\n",
       "      <th>3</th>\n",
       "      <td>aardvark_04s.jpg</td>\n",
       "      <td>True</td>\n",
       "      <td>aardvark</td>\n",
       "    </tr>\n",
       "    <tr>\n",
       "      <th>4</th>\n",
       "      <td>aardvark_05s.jpg</td>\n",
       "      <td>True</td>\n",
       "      <td>aardvark</td>\n",
       "    </tr>\n",
       "    <tr>\n",
       "      <th>...</th>\n",
       "      <td>...</td>\n",
       "      <td>...</td>\n",
       "      <td>...</td>\n",
       "    </tr>\n",
       "    <tr>\n",
       "      <th>1530</th>\n",
       "      <td>bee_23s.jpg</td>\n",
       "      <td>False</td>\n",
       "      <td>bee</td>\n",
       "    </tr>\n",
       "    <tr>\n",
       "      <th>1531</th>\n",
       "      <td>bee_24s.jpg</td>\n",
       "      <td>False</td>\n",
       "      <td>bee</td>\n",
       "    </tr>\n",
       "    <tr>\n",
       "      <th>1532</th>\n",
       "      <td>bee_25s.jpg</td>\n",
       "      <td>False</td>\n",
       "      <td>bee</td>\n",
       "    </tr>\n",
       "    <tr>\n",
       "      <th>1533</th>\n",
       "      <td>bee_26s.jpg</td>\n",
       "      <td>False</td>\n",
       "      <td>bee</td>\n",
       "    </tr>\n",
       "    <tr>\n",
       "      <th>1534</th>\n",
       "      <td>bee_27s.jpg</td>\n",
       "      <td>False</td>\n",
       "      <td>bee</td>\n",
       "    </tr>\n",
       "  </tbody>\n",
       "</table>\n",
       "<p>1535 rows × 3 columns</p>\n",
       "</div>"
      ],
      "text/plain": [
       "                  name    idx     class\n",
       "0     aardvark_01b.jpg   True  aardvark\n",
       "1     aardvark_02s.jpg   True  aardvark\n",
       "2     aardvark_03s.jpg   True  aardvark\n",
       "3     aardvark_04s.jpg   True  aardvark\n",
       "4     aardvark_05s.jpg   True  aardvark\n",
       "...                ...    ...       ...\n",
       "1530       bee_23s.jpg  False       bee\n",
       "1531       bee_24s.jpg  False       bee\n",
       "1532       bee_25s.jpg  False       bee\n",
       "1533       bee_26s.jpg  False       bee\n",
       "1534       bee_27s.jpg  False       bee\n",
       "\n",
       "[1535 rows x 3 columns]"
      ]
     },
     "execution_count": 559,
     "metadata": {},
     "output_type": "execute_result"
    }
   ],
   "source": [
    "test_info = pd.read_csv('../data/THINGS/Images_features/resnet18/training_info.csv', index_col=0)\n",
    "test_info['class'] = test_info['name'].apply(lambda x: '_'.join(map(str, x.split('_')[:-1])))\n",
    "print(test_info.shape)\n",
    "last = test_info['class'].unique()[100]#.shape\n",
    "\n",
    "test_info = test_info[test_info['class'] < last]\n",
    "test_info"
   ]
  },
  {
   "cell_type": "code",
   "execution_count": 560,
   "metadata": {},
   "outputs": [],
   "source": [
    "# test_info = pd.read_csv('../data/THINGS/Images_features/resnet18/test_info.csv', index_col=0)\n",
    "# test_info['class'] = test_info['name'].apply(lambda x: '_'.join(map(str, x.split('_')[:-1])))\n",
    "# test_info"
   ]
  },
  {
   "cell_type": "markdown",
   "metadata": {},
   "source": [
    "#### Metriche estrazione concept esatto"
   ]
  },
  {
   "cell_type": "code",
   "execution_count": 561,
   "metadata": {},
   "outputs": [
    {
     "data": {
      "text/plain": [
       "(400,)"
      ]
     },
     "execution_count": 561,
     "metadata": {},
     "output_type": "execute_result"
    }
   ],
   "source": [
    "class_rep = np.repeat(test_info['class'].unique(), 4, axis=0)\n",
    "\n",
    "diz = test_info['class'].to_dict()\n",
    "vfunc = np.vectorize(lambda x: diz[x])\n",
    "result = vfunc(ind)\n",
    "\n",
    "class_rep.shape"
   ]
  },
  {
   "cell_type": "code",
   "execution_count": 562,
   "metadata": {},
   "outputs": [],
   "source": [
    "# class_rep = np.repeat(test_info['class'].unique(), 80, axis=0)\n",
    "\n",
    "# diz = test_info['class'].to_dict()\n",
    "# vfunc = np.vectorize(lambda x: diz[x])\n",
    "# result = vfunc(ind)\n",
    "\n",
    "# class_rep.shape"
   ]
  },
  {
   "cell_type": "code",
   "execution_count": 563,
   "metadata": {},
   "outputs": [
    {
     "data": {
      "text/plain": [
       "24"
      ]
     },
     "execution_count": 563,
     "metadata": {},
     "output_type": "execute_result"
    }
   ],
   "source": [
    "a = 0\n",
    "for n, (c, i) in enumerate(zip(class_rep, result)):\n",
    "    if c in i:\n",
    "        a += 1\n",
    "a"
   ]
  },
  {
   "cell_type": "code",
   "execution_count": 564,
   "metadata": {},
   "outputs": [
    {
     "name": "stdout",
     "output_type": "stream",
     "text": [
      "random: 9.38\n",
      "retrieved: 6.0\n"
     ]
    }
   ],
   "source": [
    "print('random:', 9.38) # calcolo combinatorio (considerando 15 img per classe in media)\n",
    "print('retrieved:', a/len(ind)*100)"
   ]
  },
  {
   "cell_type": "markdown",
   "metadata": {},
   "source": [
    "#### Metriche estrazione immagine esatta"
   ]
  },
  {
   "cell_type": "code",
   "execution_count": 565,
   "metadata": {},
   "outputs": [
    {
     "data": {
      "text/plain": [
       "Int64Index([   0,    0,    0,    0,    1,    1,    1,    1,    2,    2,\n",
       "            ...\n",
       "            1515, 1515, 1516, 1516, 1516, 1516, 1517, 1517, 1517, 1517],\n",
       "           dtype='int64', length=4000)"
      ]
     },
     "execution_count": 565,
     "metadata": {},
     "output_type": "execute_result"
    }
   ],
   "source": [
    "id_rep = np.repeat(test_info[test_info['idx']==True].index, 4)\n",
    "id_rep"
   ]
  },
  {
   "cell_type": "code",
   "execution_count": 566,
   "metadata": {},
   "outputs": [
    {
     "data": {
      "text/plain": [
       "2"
      ]
     },
     "execution_count": 566,
     "metadata": {},
     "output_type": "execute_result"
    }
   ],
   "source": [
    "a = 0\n",
    "for n, (c, i) in enumerate(zip(id_rep, ind)):\n",
    "    if c in i:\n",
    "        a += 1\n",
    "a"
   ]
  },
  {
   "cell_type": "code",
   "execution_count": 567,
   "metadata": {},
   "outputs": [
    {
     "name": "stdout",
     "output_type": "stream",
     "text": [
      "random: 0.6514657980456027\n",
      "retrieved: 0.5\n"
     ]
    }
   ],
   "source": [
    "print('random:', k/len(test_info)*100) # prob\n",
    "print('retrieved:', a/len(ind)*100) # freq"
   ]
  }
 ],
 "metadata": {
  "kernelspec": {
   "display_name": "Thesis",
   "language": "python",
   "name": "python3"
  },
  "language_info": {
   "codemirror_mode": {
    "name": "ipython",
    "version": 3
   },
   "file_extension": ".py",
   "mimetype": "text/x-python",
   "name": "python",
   "nbconvert_exporter": "python",
   "pygments_lexer": "ipython3",
   "version": "3.10.11"
  },
  "orig_nbformat": 4
 },
 "nbformat": 4,
 "nbformat_minor": 2
}
