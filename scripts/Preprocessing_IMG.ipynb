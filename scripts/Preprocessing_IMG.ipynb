{
 "cells": [
  {
   "cell_type": "code",
   "execution_count": 248,
   "metadata": {},
   "outputs": [],
   "source": [
    "from sklearn.decomposition import PCA\n",
    "import numpy as np\n",
    "import os"
   ]
  },
  {
   "cell_type": "code",
   "execution_count": 249,
   "metadata": {},
   "outputs": [],
   "source": [
    "path_THINGS = '../data/THINGS/Images_features/resnet18/'\n",
    "path_THINGSEEG2 = '../data/THINGS-EEG2/image_set_features/resnet18/'"
   ]
  },
  {
   "cell_type": "code",
   "execution_count": 250,
   "metadata": {},
   "outputs": [
    {
     "data": {
      "text/plain": [
       "((23212, 512), (2895, 512))"
      ]
     },
     "execution_count": 250,
     "metadata": {},
     "output_type": "execute_result"
    }
   ],
   "source": [
    "train = np.load(os.path.join(path_THINGS, 'training_images.npy'), allow_pickle=True)\n",
    "test = np.load(os.path.join(path_THINGS, 'test_images.npy'), allow_pickle=True)\n",
    "\n",
    "train.shape, test.shape"
   ]
  },
  {
   "cell_type": "code",
   "execution_count": 251,
   "metadata": {},
   "outputs": [
    {
     "data": {
      "text/plain": [
       "(19.682777, 0.0, 14.111614, 0.0)"
      ]
     },
     "execution_count": 251,
     "metadata": {},
     "output_type": "execute_result"
    }
   ],
   "source": [
    "np.max(train), np.min(train), np.max(test), np.min(test)"
   ]
  },
  {
   "cell_type": "code",
   "execution_count": 252,
   "metadata": {},
   "outputs": [
    {
     "data": {
      "text/plain": [
       "((16540, 512), (200, 512))"
      ]
     },
     "execution_count": 252,
     "metadata": {},
     "output_type": "execute_result"
    }
   ],
   "source": [
    "train_EEG = np.load(os.path.join(path_THINGSEEG2, 'training_images.npy'), allow_pickle=True)\n",
    "test_EEG = np.load(os.path.join(path_THINGSEEG2, 'test_images.npy'), allow_pickle=True)\n",
    "\n",
    "train_EEG = train_EEG.reshape(-1, train_EEG.shape[2])\n",
    "test_EEG = test_EEG.reshape(-1, test_EEG.shape[2])\n",
    "\n",
    "train_EEG.shape, test_EEG.shape"
   ]
  },
  {
   "cell_type": "code",
   "execution_count": 253,
   "metadata": {},
   "outputs": [
    {
     "data": {
      "text/plain": [
       "(19.682777, 0.0, 12.018201, 0.0)"
      ]
     },
     "execution_count": 253,
     "metadata": {},
     "output_type": "execute_result"
    }
   ],
   "source": [
    "np.max(train_EEG), np.min(train_EEG), np.max(test_EEG), np.min(test_EEG)"
   ]
  },
  {
   "cell_type": "code",
   "execution_count": 254,
   "metadata": {},
   "outputs": [],
   "source": [
    "n_components = 100\n",
    "pca = PCA(n_components=n_components)"
   ]
  },
  {
   "cell_type": "code",
   "execution_count": 255,
   "metadata": {},
   "outputs": [
    {
     "name": "stdout",
     "output_type": "stream",
     "text": [
      "[0.04143147 0.03408748 0.03029334 0.02422544 0.02289959 0.01971091\n",
      " 0.01814672 0.01784531 0.01537737 0.01458431 0.01386041 0.01348222\n",
      " 0.01295037 0.0115386  0.01133844 0.0101938  0.01008112 0.00996317\n",
      " 0.00970149 0.00941867 0.00874957 0.0082035  0.00808355 0.0078441\n",
      " 0.00772566 0.00749848 0.0074583  0.0069951  0.00692626 0.00689003\n",
      " 0.00675289 0.00639899 0.00630297 0.00621191 0.00613141 0.00597912\n",
      " 0.00588227 0.00585112 0.00572937 0.00557182 0.00553331 0.00541374\n",
      " 0.00532274 0.00524355 0.00518121 0.00512926 0.00503186 0.00494995\n",
      " 0.00489219 0.00481757 0.00474741 0.00466812 0.0045492  0.00452337\n",
      " 0.00449001 0.00442505 0.00436651 0.00434538 0.00428566 0.00420514\n",
      " 0.00413823 0.00410355 0.00408232 0.00400505 0.00396738 0.00395394\n",
      " 0.00388826 0.00384099 0.00379638 0.0037475  0.00371046 0.00368511\n",
      " 0.0036648  0.00358617 0.00354372 0.0034546  0.00344392 0.0034003\n",
      " 0.00339074 0.00332233 0.00328621 0.00326434 0.0032015  0.00315302\n",
      " 0.00313341 0.00310574 0.00309089 0.00303208 0.0029997  0.00298226\n",
      " 0.00297005 0.0028719  0.00283134 0.00277482 0.00275685 0.00270709\n",
      " 0.00269755 0.00269075 0.00261554 0.0025902 ]\n",
      "[533.0174  483.47458 455.77426 407.57925 396.26892 367.64575 352.7567\n",
      " 349.81482 324.72614 316.24173 308.29346 304.0583  298.00073 281.28897\n",
      " 278.83853 264.3896  262.9243  261.38156 257.92612 254.1388  244.94548\n",
      " 237.1787  235.4384  231.92511 230.16743 226.75816 226.14975 219.01463\n",
      " 217.93433 217.3635  215.18944 209.47482 207.89735 206.39006 205.0484\n",
      " 202.48595 200.83922 200.30675 198.21179 195.4675  194.79086 192.6748\n",
      " 191.04866 189.62215 188.49142 187.54424 185.75493 184.23695 183.15875\n",
      " 181.7567  180.42822 178.91522 176.62152 176.11943 175.4687  174.19485\n",
      " 173.03874 172.6196  171.42926 169.81122 168.45491 167.74751 167.31306\n",
      " 165.7221  164.94087 164.66113 163.28793 162.29222 161.347   160.30496\n",
      " 159.51079 158.96495 158.52638 156.81653 155.88554 153.91283 153.6749\n",
      " 152.69858 152.48366 150.93756 150.11497 149.61467 148.16759 147.04147\n",
      " 146.5834  145.93478 145.5854  144.19377 143.42186 143.00426 142.71132\n",
      " 140.33322 139.33894 137.9411  137.49367 136.24722 136.00702 135.83528\n",
      " 133.92351 133.27316]\n"
     ]
    }
   ],
   "source": [
    "train_EEG_tr = pca.fit_transform(train_EEG)\n",
    "print(pca.explained_variance_ratio_)\n",
    "print(pca.singular_values_)"
   ]
  },
  {
   "cell_type": "code",
   "execution_count": 256,
   "metadata": {},
   "outputs": [
    {
     "data": {
      "text/plain": [
       "((23212, 100), (2895, 100), (16540, 100), (200, 100))"
      ]
     },
     "execution_count": 256,
     "metadata": {},
     "output_type": "execute_result"
    }
   ],
   "source": [
    "train_tr = pca.transform(train)\n",
    "test_tr = pca.transform(test)\n",
    "# train_EEG_tr = pca.transform(train_EEG)\n",
    "test_EEG_tr = pca.transform(test_EEG)\n",
    "\n",
    "train_tr.shape, test_tr.shape, train_EEG_tr.shape, test_EEG_tr.shape"
   ]
  },
  {
   "cell_type": "code",
   "execution_count": 257,
   "metadata": {},
   "outputs": [
    {
     "name": "stdout",
     "output_type": "stream",
     "text": [
      "-0.0039269123 -12.57519 17.419224\n",
      "-0.018148182 -11.818678 14.740765\n",
      "-1.0461588e-07 -12.575178 17.419022\n",
      "-0.0036560418 -10.40159 10.262344\n"
     ]
    }
   ],
   "source": [
    "print(np.mean(train_tr), np.min(train_tr), np.max(train_tr))\n",
    "print(np.mean(test_tr), np.min(test_tr), np.max(test_tr))\n",
    "print(np.mean(train_EEG_tr), np.min(train_EEG_tr), np.max(train_EEG_tr))\n",
    "print(np.mean(test_EEG_tr), np.min(test_EEG_tr), np.max(test_EEG_tr))"
   ]
  },
  {
   "cell_type": "code",
   "execution_count": 258,
   "metadata": {},
   "outputs": [],
   "source": [
    "# max = np.max(train_EEG_tr)\n",
    "\n",
    "# train_EEG_tr = train_EEG_tr / max\n",
    "# test_EEG_tr = test_EEG_tr / max\n",
    "# train_tr = train_tr / max\n",
    "# test_tr = test_tr / max"
   ]
  },
  {
   "cell_type": "code",
   "execution_count": 259,
   "metadata": {},
   "outputs": [],
   "source": [
    "# min = np.min(train_EEG_tr)\n",
    "# max = np.max(train_EEG_tr)\n",
    "\n",
    "# train_tr = 2 * (train_tr - min) / (max - min) - 1\n",
    "# test_tr = 2 * (test_tr - min) / (max - min) - 1\n",
    "# train_EEG_tr = 2 * (train_EEG_tr - min) / (max - min) - 1\n",
    "# test_EEG_tr = 2 * (test_EEG_tr - min) / (max - min) - 1"
   ]
  },
  {
   "cell_type": "code",
   "execution_count": 260,
   "metadata": {},
   "outputs": [],
   "source": [
    "# min = np.min(train_EEG_tr)\n",
    "# max = np.max(train_EEG_tr)\n",
    "\n",
    "# train_tr = (train_tr - min) / (max - min)\n",
    "# test_tr = (test_tr - min) / (max - min)\n",
    "# train_EEG_tr = (train_EEG_tr - min) / (max - min)\n",
    "# test_EEG_tr = (test_EEG_tr - min) / (max - min)"
   ]
  },
  {
   "cell_type": "code",
   "execution_count": 261,
   "metadata": {},
   "outputs": [],
   "source": [
    "# mean = np.mean(train_EEG_tr)\n",
    "# std = np.std(train_EEG_tr)\n",
    "\n",
    "# train_EEG_tr = (train_EEG_tr - mean) / std\n",
    "# test_EEG_tr = (test_EEG_tr - mean) / std\n",
    "# train_tr = (train_tr - mean) / std\n",
    "# test_tr = (test_tr - mean) / std"
   ]
  },
  {
   "cell_type": "code",
   "execution_count": 262,
   "metadata": {},
   "outputs": [],
   "source": [
    "# max = np.max(train_EEG_tr)\n",
    "# mean = np.mean(train_EEG_tr)\n",
    "# std = np.std(train_EEG_tr)\n",
    "\n",
    "# train_EEG_tr = (train_EEG_tr - mean) / max\n",
    "# test_EEG_tr = (test_EEG_tr - mean) / max\n",
    "# train_tr = (train_tr - mean) / max\n",
    "# test_tr = (test_tr - mean) / max"
   ]
  },
  {
   "cell_type": "code",
   "execution_count": 263,
   "metadata": {},
   "outputs": [],
   "source": [
    "max = np.max(train_EEG_tr)\n",
    "min = np.min(train_EEG_tr)\n",
    "mean = np.mean(train_EEG_tr)\n",
    "std = np.std(train_EEG_tr)\n",
    "\n",
    "train_EEG_tr = (train_EEG_tr - mean) / (max - min)\n",
    "test_EEG_tr = (test_EEG_tr - mean) / (max - min)\n",
    "train_tr = (train_tr - mean) / (max - min)\n",
    "test_tr = (test_tr - mean) / (max - min)"
   ]
  },
  {
   "cell_type": "code",
   "execution_count": 264,
   "metadata": {},
   "outputs": [
    {
     "name": "stdout",
     "output_type": "stream",
     "text": [
      "-0.0001309193 -0.41925403 0.5807531\n",
      "-0.00060505327 -0.39403212 0.49145383\n",
      "-3.4018613e-10 -0.41925368 0.58074635\n",
      "-0.0001218886 -0.34678674 0.3421443\n"
     ]
    }
   ],
   "source": [
    "print(np.mean(train_tr), np.min(train_tr), np.max(train_tr))\n",
    "print(np.mean(test_tr), np.min(test_tr), np.max(test_tr))\n",
    "print(np.mean(train_EEG_tr), np.min(train_EEG_tr), np.max(train_EEG_tr))\n",
    "print(np.mean(test_EEG_tr), np.min(test_EEG_tr), np.max(test_EEG_tr))"
   ]
  },
  {
   "cell_type": "code",
   "execution_count": 265,
   "metadata": {},
   "outputs": [],
   "source": [
    "np.save(os.path.join(path_THINGS, f'training_images_{n_components}_mean.npy'), train_tr)\n",
    "np.save(os.path.join(path_THINGS, f'test_images_{n_components}_mean.npy'), test_tr)\n",
    "\n",
    "np.save(os.path.join(path_THINGSEEG2, f'training_images_{n_components}_mean.npy'), train_EEG_tr)\n",
    "np.save(os.path.join(path_THINGSEEG2, f'test_images_{n_components}_mean.npy'), test_EEG_tr)"
   ]
  }
 ],
 "metadata": {
  "kernelspec": {
   "display_name": "Thesis",
   "language": "python",
   "name": "python3"
  },
  "language_info": {
   "codemirror_mode": {
    "name": "ipython",
    "version": 3
   },
   "file_extension": ".py",
   "mimetype": "text/x-python",
   "name": "python",
   "nbconvert_exporter": "python",
   "pygments_lexer": "ipython3",
   "version": "3.10.11"
  },
  "orig_nbformat": 4
 },
 "nbformat": 4,
 "nbformat_minor": 2
}
