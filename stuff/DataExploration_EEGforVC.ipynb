{
 "cells": [
  {
   "attachments": {},
   "cell_type": "markdown",
   "metadata": {},
   "source": [
    "É piú concentrato sui dati specificando bene dove vengono messi i dati. TF si concentra di piú sulle operazioni e vengono gestiti in automatico i device"
   ]
  },
  {
   "cell_type": "code",
   "execution_count": 10,
   "metadata": {},
   "outputs": [
    {
     "data": {
      "text/plain": [
       "'2.0.0+cu117'"
      ]
     },
     "execution_count": 10,
     "metadata": {},
     "output_type": "execute_result"
    }
   ],
   "source": [
    "import torch\n",
    "torch.__version__"
   ]
  },
  {
   "cell_type": "code",
   "execution_count": 11,
   "metadata": {},
   "outputs": [
    {
     "data": {
      "text/plain": [
       "True"
      ]
     },
     "execution_count": 11,
     "metadata": {},
     "output_type": "execute_result"
    }
   ],
   "source": [
    "torch.cuda.is_available()"
   ]
  },
  {
   "cell_type": "code",
   "execution_count": 12,
   "metadata": {},
   "outputs": [
    {
     "name": "stdout",
     "output_type": "stream",
     "text": [
      "Wed Apr  5 16:23:57 2023       \n",
      "+-----------------------------------------------------------------------------+\n",
      "| NVIDIA-SMI 527.37       Driver Version: 527.37       CUDA Version: 12.0     |\n",
      "|-------------------------------+----------------------+----------------------+\n",
      "| GPU  Name            TCC/WDDM | Bus-Id        Disp.A | Volatile Uncorr. ECC |\n",
      "| Fan  Temp  Perf  Pwr:Usage/Cap|         Memory-Usage | GPU-Util  Compute M. |\n",
      "|                               |                      |               MIG M. |\n",
      "|===============================+======================+======================|\n",
      "|   0  NVIDIA GeForce ... WDDM  | 00000000:01:00.0 Off |                  N/A |\n",
      "| N/A   41C    P8     5W /  N/A |      0MiB /  4096MiB |      0%      Default |\n",
      "|                               |                      |                  N/A |\n",
      "+-------------------------------+----------------------+----------------------+\n",
      "                                                                               \n",
      "+-----------------------------------------------------------------------------+\n",
      "| Processes:                                                                  |\n",
      "|  GPU   GI   CI        PID   Type   Process name                  GPU Memory |\n",
      "|        ID   ID                                                   Usage      |\n",
      "|=============================================================================|\n",
      "|    0   N/A  N/A     16188      C   ...Data\\Anaconda3\\python.exe    N/A      |\n",
      "+-----------------------------------------------------------------------------+\n"
     ]
    }
   ],
   "source": [
    "!nvidia-smi"
   ]
  },
  {
   "cell_type": "code",
   "execution_count": 13,
   "metadata": {},
   "outputs": [
    {
     "data": {
      "text/plain": [
       "device(type='cpu')"
      ]
     },
     "execution_count": 13,
     "metadata": {},
     "output_type": "execute_result"
    }
   ],
   "source": [
    "data = [[1,2,3], [3,5,6]]\n",
    "pt_data = torch.tensor(data)\n",
    "pt_data.device"
   ]
  },
  {
   "attachments": {},
   "cell_type": "markdown",
   "metadata": {},
   "source": [
    "Sposto la variabile sulla memoria della GPU assegandola alla ____ numero 0. Devo mettere tutte le variabili sullo stesso device per poter fare calcoli"
   ]
  },
  {
   "cell_type": "code",
   "execution_count": 14,
   "metadata": {},
   "outputs": [],
   "source": [
    "# pt_data = pt_data.to(torch.device('cuda:0'))\n",
    "# pt_data.device"
   ]
  },
  {
   "attachments": {},
   "cell_type": "markdown",
   "metadata": {},
   "source": [
    "Per quando voglio salvare i risultati delle operazioni (es. un immagine) sul disco devo passare da tipo pytorch a tipo numpy, passando prima peró da GPU a CPU"
   ]
  },
  {
   "cell_type": "code",
   "execution_count": 15,
   "metadata": {},
   "outputs": [],
   "source": [
    "import numpy\n",
    "np_data = pt_data.cpu().numpy()"
   ]
  },
  {
   "attachments": {},
   "cell_type": "markdown",
   "metadata": {},
   "source": [
    "### Read Datasets"
   ]
  },
  {
   "cell_type": "code",
   "execution_count": 16,
   "metadata": {},
   "outputs": [],
   "source": [
    "path = '../data/eeg_PerceiveLab/'\n",
    "\n",
    "eeg_data = torch.load(path + 'eeg_5_95_std.pth')\n",
    "# eeg_data = torch.load(path + eeg_55_95_std.pth')\n",
    "# eeg_data = torch.load(path + 'eeg_signals_raw_with_mean_std.pth')\n",
    "\n",
    "split_all = torch.load(path + 'block_splits_by_image_all.pth')\n",
    "split_single = torch.load(path + 'block_splits_by_image_single.pth')"
   ]
  },
  {
   "attachments": {},
   "cell_type": "markdown",
   "metadata": {},
   "source": [
    "### Explore structure"
   ]
  },
  {
   "cell_type": "code",
   "execution_count": 49,
   "metadata": {},
   "outputs": [
    {
     "data": {
      "text/plain": [
       "{'eeg': tensor([[-0.0120,  0.0473,  0.1264,  ...,  0.0109,  0.0188,  0.0211],\n",
       "         [-0.0061,  0.0061,  0.0379,  ...,  0.0466,  0.0355,  0.0135],\n",
       "         [ 0.0016,  0.0690,  0.1212,  ...,  0.0077, -0.0025,  0.0047],\n",
       "         ...,\n",
       "         [ 0.0189,  0.0461,  0.0376,  ..., -0.0657, -0.0639, -0.0245],\n",
       "         [-0.0043,  0.0026,  0.0072,  ..., -0.0171, -0.0132, -0.0064],\n",
       "         [ 0.0073,  0.1099,  0.1803,  ..., -0.1500, -0.1019, -0.0184]]),\n",
       " 'image': 1,\n",
       " 'label': 30,\n",
       " 'subject': 4}"
      ]
     },
     "execution_count": 49,
     "metadata": {},
     "output_type": "execute_result"
    }
   ],
   "source": [
    "eeg_data['dataset'][1]"
   ]
  },
  {
   "cell_type": "code",
   "execution_count": 17,
   "metadata": {},
   "outputs": [
    {
     "data": {
      "text/plain": [
       "dict_keys(['dataset', 'labels', 'images'])"
      ]
     },
     "execution_count": 17,
     "metadata": {},
     "output_type": "execute_result"
    }
   ],
   "source": [
    "eeg_data.keys()"
   ]
  },
  {
   "cell_type": "code",
   "execution_count": 18,
   "metadata": {},
   "outputs": [
    {
     "name": "stdout",
     "output_type": "stream",
     "text": [
      "numero di images:  1996\n",
      "n02951358_31190\n",
      "n03452741_16744\n",
      "n04069434_10318\n",
      "n02951358_34807\n",
      "n03452741_5499\n"
     ]
    }
   ],
   "source": [
    "images = eeg_data['images']\n",
    "print('numero di images: ', len(images))\n",
    "print(*images[:5], sep='\\n')"
   ]
  },
  {
   "cell_type": "code",
   "execution_count": 19,
   "metadata": {},
   "outputs": [],
   "source": [
    "# with open(\"files_list.txt\", \"w\") as f:\n",
    "#     for image in images:\n",
    "#         f.write(str(image) +\"\\n\")"
   ]
  },
  {
   "cell_type": "code",
   "execution_count": 20,
   "metadata": {},
   "outputs": [
    {
     "name": "stdout",
     "output_type": "stream",
     "text": [
      "numero di labels unici:  40\n",
      "n02951358\n",
      "n03452741\n",
      "n04069434\n",
      "n02951358\n",
      "n03452741\n"
     ]
    }
   ],
   "source": [
    "# labels = o['labels']\n",
    "labels = [image.split('_')[0] for image in images] # preserve order\n",
    "print('numero di labels unici: ', len(set(labels)))\n",
    "print(*labels[:5], sep='\\n')"
   ]
  },
  {
   "cell_type": "code",
   "execution_count": 21,
   "metadata": {},
   "outputs": [
    {
     "name": "stdout",
     "output_type": "stream",
     "text": [
      "numero di subjects:  6\n"
     ]
    }
   ],
   "source": [
    "n_subjects = 6\n",
    "print('numero di subjects: ', n_subjects)"
   ]
  },
  {
   "cell_type": "code",
   "execution_count": 22,
   "metadata": {},
   "outputs": [
    {
     "name": "stdout",
     "output_type": "stream",
     "text": [
      "numero di EEG:  11965\n",
      "1996 images * 6 subjects = 11976\n"
     ]
    }
   ],
   "source": [
    "print('numero di EEG: ', len(eeg_data['dataset']))\n",
    "print(f'{len(images)} images * {n_subjects} subjects = {len(images)*n_subjects}')"
   ]
  },
  {
   "attachments": {},
   "cell_type": "markdown",
   "metadata": {},
   "source": [
    "### Request images kaggle"
   ]
  },
  {
   "cell_type": "code",
   "execution_count": 23,
   "metadata": {},
   "outputs": [],
   "source": [
    "# !kaggle competitions download -c imagenet-object-localization-challenge -f LOC_train_solution.csv"
   ]
  },
  {
   "cell_type": "code",
   "execution_count": 24,
   "metadata": {},
   "outputs": [],
   "source": [
    "# from kaggle.api.kaggle_api_extended import KaggleApi\n",
    "\n",
    "# api = KaggleApi()\n",
    "# api.authenticate()"
   ]
  },
  {
   "cell_type": "code",
   "execution_count": 25,
   "metadata": {},
   "outputs": [],
   "source": [
    "# from tqdm import tqdm\n",
    "# import time\n",
    "\n",
    "# wait = 600\n",
    "\n",
    "# for _, (file, folder) in tqdm(enumerate(zip(files[500:], folders[500:])), total = len(files)):\n",
    "#     while True:\n",
    "#         try:\n",
    "#             api.competition_download_file('imagenet-object-localization-challenge',\n",
    "#                                 file_name = f'ILSVRC/Data/CLS-LOC/train/{folder}/{file}.JPEG',\n",
    "#                                 path = f'./ImageNet_images/{folder}',\n",
    "#                                 quiet = True)\n",
    "#         except:\n",
    "#             print(f'wait {wait} sec')\n",
    "#             time.sleep(wait)\n",
    "#             print(f'stop waiting')"
   ]
  },
  {
   "attachments": {},
   "cell_type": "markdown",
   "metadata": {},
   "source": [
    "### Exploration EEG signals"
   ]
  },
  {
   "cell_type": "code",
   "execution_count": 26,
   "metadata": {},
   "outputs": [
    {
     "data": {
      "text/plain": [
       "{'eeg': tensor([[-0.0098,  0.0195,  0.0620,  ...,  0.0638,  0.0120, -0.0118],\n",
       "         [-0.0045,  0.1303,  0.2673,  ...,  0.0894,  0.0342, -0.0082],\n",
       "         [ 0.0215, -0.2017, -0.4305,  ..., -0.2022, -0.0940,  0.0188],\n",
       "         ...,\n",
       "         [ 0.0160,  0.0707,  0.1005,  ...,  0.2066,  0.1156,  0.0036],\n",
       "         [-0.0046, -0.0084, -0.0119,  ...,  0.0007, -0.0026, -0.0053],\n",
       "         [ 0.0040,  0.0419,  0.0665,  ...,  0.0765,  0.0309, -0.0063]]),\n",
       " 'image': 0,\n",
       " 'label': 10,\n",
       " 'subject': 4}"
      ]
     },
     "execution_count": 26,
     "metadata": {},
     "output_type": "execute_result"
    }
   ],
   "source": [
    "eeg_data['dataset'][0]"
   ]
  },
  {
   "cell_type": "code",
   "execution_count": 27,
   "metadata": {},
   "outputs": [
    {
     "data": {
      "text/plain": [
       "torch.Size([128, 500])"
      ]
     },
     "execution_count": 27,
     "metadata": {},
     "output_type": "execute_result"
    }
   ],
   "source": [
    "eeg_data['dataset'][0]['eeg'].shape"
   ]
  },
  {
   "cell_type": "code",
   "execution_count": 28,
   "metadata": {},
   "outputs": [
    {
     "name": "stdout",
     "output_type": "stream",
     "text": [
      "tensor(-6.2825)\n",
      "tensor(2.9073)\n"
     ]
    }
   ],
   "source": [
    "print(eeg_data['dataset'][0]['eeg'].min())\n",
    "print(eeg_data['dataset'][0]['eeg'].max())"
   ]
  },
  {
   "attachments": {},
   "cell_type": "markdown",
   "metadata": {},
   "source": [
    "- canali piu importanti?\n",
    "- dimensioni immagini da ricostruire?\n",
    "- usare dataset con anche info sugli occhi(?)"
   ]
  },
  {
   "cell_type": "code",
   "execution_count": 29,
   "metadata": {},
   "outputs": [
    {
     "data": {
      "text/plain": [
       "[<matplotlib.lines.Line2D at 0x1ceffc86bb0>]"
      ]
     },
     "execution_count": 29,
     "metadata": {},
     "output_type": "execute_result"
    },
    {
     "data": {
      "image/png": "[encoded data removed]",
      "text/plain": [
       "<Figure size 432x288 with 1 Axes>"
      ]
     },
     "metadata": {
      "needs_background": "light"
     },
     "output_type": "display_data"
    }
   ],
   "source": [
    "from matplotlib import pyplot as plt\n",
    "\n",
    "example_55_95 = eeg_data['dataset'][0]['eeg'][0,:].numpy()\n",
    "plt.plot(example_55_95)"
   ]
  },
  {
   "cell_type": "code",
   "execution_count": 30,
   "metadata": {},
   "outputs": [
    {
     "name": "stderr",
     "output_type": "stream",
     "text": [
      "C:\\Users\\gianl\\AppData\\Roaming\\Python\\Python39\\site-packages\\matplotlib\\cbook\\__init__.py:1369: ComplexWarning: Casting complex values to real discards the imaginary part\n",
      "  return np.asarray(x, float)\n"
     ]
    },
    {
     "data": {
      "text/plain": [
       "[<matplotlib.lines.Line2D at 0x1cffa014640>]"
      ]
     },
     "execution_count": 30,
     "metadata": {},
     "output_type": "execute_result"
    },
    {
     "data": {
      "image/png": "[encoded data removed]",
      "text/plain": [
       "<Figure size 432x288 with 1 Axes>"
      ]
     },
     "metadata": {
      "needs_background": "light"
     },
     "output_type": "display_data"
    }
   ],
   "source": [
    "# from scipy.fft import rfft, rfftfreq\n",
    "import numpy as np\n",
    "plt.plot(np.fft.rfft(example_55_95))"
   ]
  },
  {
   "cell_type": "code",
   "execution_count": 31,
   "metadata": {},
   "outputs": [],
   "source": [
    "freq = np.fft.rfftfreq(500, d=1./1000)"
   ]
  },
  {
   "cell_type": "code",
   "execution_count": 32,
   "metadata": {},
   "outputs": [
    {
     "data": {
      "text/plain": [
       "[<matplotlib.lines.Line2D at 0x1d008e811f0>]"
      ]
     },
     "execution_count": 32,
     "metadata": {},
     "output_type": "execute_result"
    },
    {
     "data": {
      "image/png": "[encoded data removed]",
      "text/plain": [
       "<Figure size 432x288 with 1 Axes>"
      ]
     },
     "metadata": {
      "needs_background": "light"
     },
     "output_type": "display_data"
    }
   ],
   "source": [
    "plt.plot(freq, np.fft.rfft(example_55_95))"
   ]
  },
  {
   "cell_type": "code",
   "execution_count": 33,
   "metadata": {},
   "outputs": [],
   "source": [
    "# from scipy.fft import fft, fftfreq, rfft, rfftfreq\n",
    "# from scipy.signal import spectrogram\n",
    "# from librosa.feature import melspectrogram, mfcc\n",
    "# from librosa.display import specshow"
   ]
  },
  {
   "attachments": {},
   "cell_type": "markdown",
   "metadata": {},
   "source": [
    "### Other datasets exploration"
   ]
  },
  {
   "cell_type": "code",
   "execution_count": 34,
   "metadata": {},
   "outputs": [
    {
     "name": "stdout",
     "output_type": "stream",
     "text": [
      "dict_keys(['splits'])\n",
      "6\n",
      "dict_keys(['train', 'val', 'test'])\n",
      "11965\n"
     ]
    }
   ],
   "source": [
    "print(split_all.keys())\n",
    "print(len(split_all['splits']))\n",
    "print(split_all['splits'][0].keys()) # 6 possibilita diverse di split (usare lo 0!)\n",
    "print(len(split_all['splits'][0]['train']) + len(split_all['splits'][0]['val']) + len(split_all['splits'][0]['test']))"
   ]
  },
  {
   "cell_type": "code",
   "execution_count": 35,
   "metadata": {},
   "outputs": [
    {
     "name": "stdout",
     "output_type": "stream",
     "text": [
      "dict_keys(['splits'])\n",
      "1\n",
      "dict_keys(['train', 'val', 'test'])\n",
      "1000\n"
     ]
    }
   ],
   "source": [
    "print(split_single.keys())\n",
    "print(len(split_single['splits']))\n",
    "print(split_single['splits'][0].keys()) # c'é un unico split proposto\n",
    "print(len(split_single['splits'][0]['train']) + len(split_single['splits'][0]['val']) + len(split_single['splits'][0]['test']))"
   ]
  },
  {
   "attachments": {},
   "cell_type": "markdown",
   "metadata": {},
   "source": [
    "### Train, test, val split"
   ]
  },
  {
   "cell_type": "code",
   "execution_count": 36,
   "metadata": {},
   "outputs": [
    {
     "name": "stdout",
     "output_type": "stream",
     "text": [
      "11965\n",
      "11965\n"
     ]
    }
   ],
   "source": [
    "print(len(eeg_data['dataset']))\n",
    "print(len(split_all['splits'][0]['train']) + len(split_all['splits'][0]['val']) + len(split_all['splits'][0]['test']))"
   ]
  },
  {
   "cell_type": "code",
   "execution_count": 72,
   "metadata": {},
   "outputs": [],
   "source": [
    "# eeg_data_train = {'dataset': [eeg_data['dataset'][i] for i in split_all['splits'][0]['train']],\n",
    "#                   'labels': set([eeg_data['dataset'][i]['label'] for i in split_all['splits'][0]['train']]),\n",
    "#                   'images': set([eeg_data['dataset'][i]['image'] for i in split_all['splits'][0]['train']])}\n",
    "# eeg_data_val = {'dataset': [eeg_data['dataset'][i] for i in split_all['splits'][0]['val']]}\n",
    "# eeg_data_test = {'dataset': [eeg_data['dataset'][i] for i in split_all['splits'][0]['test']]}"
   ]
  },
  {
   "cell_type": "code",
   "execution_count": 80,
   "metadata": {},
   "outputs": [
    {
     "data": {
      "text/plain": [
       "{'eeg': tensor([[-0.0098,  0.0195,  0.0620,  ...,  0.0638,  0.0120, -0.0118],\n",
       "         [-0.0045,  0.1303,  0.2673,  ...,  0.0894,  0.0342, -0.0082],\n",
       "         [ 0.0215, -0.2017, -0.4305,  ..., -0.2022, -0.0940,  0.0188],\n",
       "         ...,\n",
       "         [ 0.0160,  0.0707,  0.1005,  ...,  0.2066,  0.1156,  0.0036],\n",
       "         [-0.0046, -0.0084, -0.0119,  ...,  0.0007, -0.0026, -0.0053],\n",
       "         [ 0.0040,  0.0419,  0.0665,  ...,  0.0765,  0.0309, -0.0063]]),\n",
       " 'image': 0,\n",
       " 'label': 10,\n",
       " 'subject': 4}"
      ]
     },
     "execution_count": 80,
     "metadata": {},
     "output_type": "execute_result"
    }
   ],
   "source": [
    "eeg_data['dataset'][0]"
   ]
  },
  {
   "cell_type": "code",
   "execution_count": 84,
   "metadata": {},
   "outputs": [],
   "source": [
    "eeg_data_train = {'eeg': [eeg_data['dataset'][i]['eeg'] for i in split_all['splits'][0]['train']],\n",
    "                  'labels': [eeg_data['dataset'][i]['label'] for i in split_all['splits'][0]['train']]}\n",
    "eeg_data_val = {'eeg': [eeg_data['dataset'][i]['eeg'] for i in split_all['splits'][0]['val']],\n",
    "                  'labels': [eeg_data['dataset'][i]['label'] for i in split_all['splits'][0]['val']]}\n",
    "eeg_data_test = {'eeg': [eeg_data['dataset'][i]['eeg'] for i in split_all['splits'][0]['test']],\n",
    "                  'labels': [eeg_data['dataset'][i]['label'] for i in split_all['splits'][0]['test']]}"
   ]
  },
  {
   "cell_type": "code",
   "execution_count": 87,
   "metadata": {},
   "outputs": [
    {
     "name": "stdout",
     "output_type": "stream",
     "text": [
      "train\t 7970\n",
      "val\t 1998\n",
      "test\t 1997\n"
     ]
    }
   ],
   "source": [
    "print('train\\t', len(eeg_data_train['eeg']))\n",
    "print('val\\t', len(eeg_data_val['eeg']))\n",
    "print('test\\t', len(eeg_data_test['eeg']))"
   ]
  },
  {
   "attachments": {},
   "cell_type": "markdown",
   "metadata": {},
   "source": [
    "## Classification"
   ]
  },
  {
   "attachments": {},
   "cell_type": "markdown",
   "metadata": {},
   "source": [
    "Create the dataset"
   ]
  },
  {
   "cell_type": "code",
   "execution_count": 114,
   "metadata": {},
   "outputs": [],
   "source": [
    "class EEGDataset:\n",
    "    \n",
    "    # Constructor\n",
    "    def __init__(self, eeg_data):\n",
    "        # Load EEG signals\n",
    "        self.eeg = eeg_data['eeg']        \n",
    "        self.labels = eeg_data['labels']\n",
    "        \n",
    "        # Compute size\n",
    "        self.size = len(self.eeg)\n",
    "\n",
    "    # Get size\n",
    "    def __len__(self):\n",
    "        return self.size\n",
    "\n",
    "    # Get item\n",
    "    def __getitem__(self, idx):\n",
    "        # Process EEG\n",
    "        eeg = self.eeg[idx]\n",
    "        eeg = eeg[:,20:460]\n",
    "        # # eeg = self.data[i][\"eeg\"].float().t()\n",
    "        label = self.labels[idx]\n",
    "        # Return\n",
    "\n",
    "        return eeg, label"
   ]
  },
  {
   "cell_type": "code",
   "execution_count": 115,
   "metadata": {},
   "outputs": [],
   "source": [
    "train = EEGDataset(eeg_data_train)\n",
    "val = EEGDataset(eeg_data_val)\n",
    "test = EEGDataset(eeg_data_test)"
   ]
  },
  {
   "cell_type": "code",
   "execution_count": 116,
   "metadata": {},
   "outputs": [],
   "source": [
    "from torch.utils.data import DataLoader\n",
    "\n",
    "train_loader = DataLoader(train, batch_size=64)\n",
    "val_loader = DataLoader(val, batch_size=64)\n",
    "test_loader = DataLoader(test, batch_size=64)"
   ]
  },
  {
   "cell_type": "code",
   "execution_count": 118,
   "metadata": {},
   "outputs": [
    {
     "name": "stdout",
     "output_type": "stream",
     "text": [
      "NeuralNetwork(\n",
      "  (flatten): Flatten(start_dim=1, end_dim=-1)\n",
      "  (linear_relu_stack): Sequential(\n",
      "    (0): Linear(in_features=784, out_features=512, bias=True)\n",
      "    (1): ReLU()\n",
      "    (2): Linear(in_features=512, out_features=512, bias=True)\n",
      "    (3): ReLU()\n",
      "    (4): Linear(in_features=512, out_features=10, bias=True)\n",
      "  )\n",
      ")\n"
     ]
    }
   ],
   "source": [
    "from torch import nn\n",
    "\n",
    "class NeuralNetwork(nn.Module):\n",
    "    def __init__(self):\n",
    "        super().__init__()\n",
    "        self.flatten = nn.Flatten()\n",
    "        self.linear_relu_stack = nn.Sequential(\n",
    "            nn.Linear(28*28, 512),\n",
    "            nn.ReLU(),\n",
    "            nn.Linear(512, 512),\n",
    "            nn.ReLU(),\n",
    "            nn.Linear(512, 10)\n",
    "        )\n",
    "\n",
    "    def forward(self, x):\n",
    "        x = self.flatten(x)\n",
    "        logits = self.linear_relu_stack(x)\n",
    "        return logits\n",
    "\n",
    "model = NeuralNetwork().to('cuda')\n",
    "print(model)"
   ]
  }
 ],
 "metadata": {
  "kernelspec": {
   "display_name": "base",
   "language": "python",
   "name": "python3"
  },
  "language_info": {
   "codemirror_mode": {
    "name": "ipython",
    "version": 3
   },
   "file_extension": ".py",
   "mimetype": "text/x-python",
   "name": "python",
   "nbconvert_exporter": "python",
   "pygments_lexer": "ipython3",
   "version": "3.9.7"
  },
  "orig_nbformat": 4,
  "vscode": {
   "interpreter": {
    "hash": "ad2bdc8ecc057115af97d19610ffacc2b4e99fae6737bb82f5d7fb13d2f2c186"
   }
  }
 },
 "nbformat": 4,
 "nbformat_minor": 2
}
