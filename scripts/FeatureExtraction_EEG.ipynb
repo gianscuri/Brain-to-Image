{
 "cells": [
  {
   "cell_type": "code",
   "execution_count": 55,
   "metadata": {},
   "outputs": [],
   "source": [
    "import torch\n",
    "import os\n",
    "import numpy as np\n",
    "from torch.utils.data import Dataset, DataLoader\n",
    "from torchvision.models.feature_extraction import create_feature_extractor, get_graph_node_names\n",
    "from sklearn.decomposition import PCA"
   ]
  },
  {
   "cell_type": "code",
   "execution_count": 56,
   "metadata": {},
   "outputs": [],
   "source": [
    "path_mod = '../trained_models/Classification_EEG_Concepts/'"
   ]
  },
  {
   "cell_type": "code",
   "execution_count": 57,
   "metadata": {},
   "outputs": [
    {
     "name": "stdout",
     "output_type": "stream",
     "text": [
      "model_100_acc9.38_LSTM.pt\n"
     ]
    }
   ],
   "source": [
    "n_classes = 100\n",
    "names = [i for i in os.listdir(path_mod) if i[6:9] == str(n_classes)]\n",
    "best_name = sorted(names, reverse=True)[0]\n",
    "print(best_name)"
   ]
  },
  {
   "cell_type": "code",
   "execution_count": 58,
   "metadata": {},
   "outputs": [
    {
     "data": {
      "text/plain": [
       "easy(\n",
       "  (lstm_layer): LSTM(17, 32, bias=False, batch_first=True)\n",
       "  (block1): Sequential(\n",
       "    (0): ReLU()\n",
       "    (1): AvgPool1d(kernel_size=(2,), stride=(2,), padding=(0,))\n",
       "    (2): Dropout(p=0.5, inplace=False)\n",
       "  )\n",
       "  (block2): Sequential(\n",
       "    (0): Conv1d(32, 64, kernel_size=(10,), stride=(1,), padding=(5,), bias=False)\n",
       "    (1): ReLU()\n",
       "    (2): AvgPool1d(kernel_size=(5,), stride=(5,), padding=(0,))\n",
       "  )\n",
       "  (lin): Linear(in_features=640, out_features=100, bias=False)\n",
       ")"
      ]
     },
     "execution_count": 58,
     "metadata": {},
     "output_type": "execute_result"
    }
   ],
   "source": [
    "model = torch.load(os.path.join(path_mod, best_name), map_location='cuda')\n",
    "model"
   ]
  },
  {
   "cell_type": "code",
   "execution_count": 59,
   "metadata": {},
   "outputs": [],
   "source": [
    "# print(get_graph_node_names(model), '\\n')\n",
    "model = create_feature_extractor(model, return_nodes={'flatten': 'last_layer'}).to('cuda')"
   ]
  },
  {
   "cell_type": "code",
   "execution_count": 60,
   "metadata": {},
   "outputs": [],
   "source": [
    "path_THINGSEEG2 = '../data/THINGS-EEG2/'"
   ]
  },
  {
   "cell_type": "code",
   "execution_count": 61,
   "metadata": {},
   "outputs": [],
   "source": [
    "class Dataset(Dataset):\n",
    "  # Class to create the dataset\n",
    "  def __init__(self, partition):\n",
    "    path = os.path.join(path_THINGSEEG2, f'preprocessed_data/sub-01/preprocessed_eeg_{partition}.npy')\n",
    "    test_EEG = np.load(path, allow_pickle=True).item()['preprocessed_eeg_data']\n",
    "    data = test_EEG.reshape(-1, test_EEG.shape[2], test_EEG.shape[3])\n",
    "    # data = data.mean(axis=1) # media o mediana\n",
    "\n",
    "    self.X = torch.from_numpy(data).type(torch.FloatTensor).to('cuda')\n",
    "    self.len = self.X.shape[0]\n",
    "\n",
    "  def __len__(self):\n",
    "    return self.len\n",
    "  \n",
    "  def __getitem__(self, index):\n",
    "    return self.X[index]"
   ]
  },
  {
   "cell_type": "code",
   "execution_count": 62,
   "metadata": {},
   "outputs": [],
   "source": [
    "train = DataLoader(Dataset('training'), batch_size=40, shuffle=False, drop_last=False)\n",
    "test = DataLoader(Dataset('test'), batch_size=80, shuffle=False, drop_last=False)"
   ]
  },
  {
   "cell_type": "code",
   "execution_count": 63,
   "metadata": {},
   "outputs": [
    {
     "data": {
      "text/plain": [
       "(1654, 200)"
      ]
     },
     "execution_count": 63,
     "metadata": {},
     "output_type": "execute_result"
    }
   ],
   "source": [
    "train.__len__(), test.__len__()"
   ]
  },
  {
   "cell_type": "code",
   "execution_count": 64,
   "metadata": {},
   "outputs": [
    {
     "data": {
      "text/plain": [
       "((66160, 640), (16000, 640))"
      ]
     },
     "execution_count": 64,
     "metadata": {},
     "output_type": "execute_result"
    }
   ],
   "source": [
    "model.eval()\n",
    "\n",
    "train_feat = []\n",
    "test_feat = []\n",
    "\n",
    "for batch in train:\n",
    "    train_feat.append(model(batch)['last_layer'].detach().cpu().numpy())\n",
    "\n",
    "for batch in test:\n",
    "    test_feat.append(model(batch)['last_layer'].detach().cpu().numpy())\n",
    "\n",
    "train_feat = np.concatenate(train_feat) # sarebbe da cambiare e far usicre in output shape simile a eeg\n",
    "test_feat = np.concatenate(test_feat)\n",
    "\n",
    "train_feat.shape, test_feat.shape"
   ]
  },
  {
   "cell_type": "code",
   "execution_count": 65,
   "metadata": {},
   "outputs": [
    {
     "name": "stdout",
     "output_type": "stream",
     "text": [
      "1.1973361 0.0 7.2006836\n",
      "1.1641643 0.0 7.0202494\n"
     ]
    }
   ],
   "source": [
    "print(np.mean(train_feat), np.min(train_feat), np.max(train_feat))\n",
    "print(np.mean(test_feat), np.min(test_feat), np.max(test_feat))"
   ]
  },
  {
   "cell_type": "markdown",
   "metadata": {},
   "source": [
    "### PCA"
   ]
  },
  {
   "cell_type": "code",
   "execution_count": 66,
   "metadata": {},
   "outputs": [],
   "source": [
    "n_components = 100\n",
    "pca = PCA(n_components=n_components)"
   ]
  },
  {
   "cell_type": "code",
   "execution_count": 67,
   "metadata": {},
   "outputs": [
    {
     "name": "stdout",
     "output_type": "stream",
     "text": [
      "[1.91264451e-01 1.41673857e-01 8.38659008e-02 5.74373345e-02\n",
      " 5.59337140e-02 4.48563686e-02 3.50602578e-02 3.19379469e-02\n",
      " 2.78493296e-02 2.09154884e-02 1.98773949e-02 1.86738221e-02\n",
      " 1.63519714e-02 1.57672485e-02 1.46367179e-02 1.38969822e-02\n",
      " 1.24862437e-02 1.19519404e-02 1.13603638e-02 1.04933630e-02\n",
      " 1.01174563e-02 9.42645416e-03 9.06485380e-03 8.70005990e-03\n",
      " 8.41165806e-03 7.80425530e-03 6.99391963e-03 6.60153835e-03\n",
      " 6.42254775e-03 5.52706466e-03 5.21015537e-03 4.87808236e-03\n",
      " 4.82618202e-03 4.68578364e-03 4.33198143e-03 3.72794361e-03\n",
      " 3.22517628e-03 3.16299984e-03 3.03335462e-03 2.70434340e-03\n",
      " 2.60463197e-03 2.41169698e-03 2.39014596e-03 2.31423948e-03\n",
      " 2.12570964e-03 1.85656889e-03 1.75180016e-03 1.64759575e-03\n",
      " 1.37149790e-03 1.32966483e-03 1.16607010e-03 1.09162043e-03\n",
      " 9.75366122e-04 9.29353859e-04 8.80224562e-04 8.40581303e-04\n",
      " 7.87542776e-04 7.37045756e-04 7.13362099e-04 6.41519368e-04\n",
      " 6.15154771e-04 5.76827533e-04 5.52506783e-04 4.91083216e-04\n",
      " 4.85723174e-04 4.41609183e-04 3.98103654e-04 3.79766376e-04\n",
      " 3.66536101e-04 3.52673593e-04 3.31779573e-04 3.09730146e-04\n",
      " 3.04249800e-04 2.81658943e-04 2.72979731e-04 2.50910452e-04\n",
      " 2.43044402e-04 2.25009251e-04 2.19341061e-04 2.02930201e-04\n",
      " 1.89978646e-04 1.81289943e-04 1.76908962e-04 1.59413235e-04\n",
      " 1.50785035e-04 1.46061652e-04 1.43477040e-04 1.39528285e-04\n",
      " 1.36625429e-04 1.30081108e-04 1.24590460e-04 1.23950634e-04\n",
      " 1.16229566e-04 1.11223268e-04 1.09028745e-04 1.05252503e-04\n",
      " 1.02250816e-04 9.72441853e-05 9.55611983e-05 9.12948030e-05]\n",
      "[1965.2048   1691.358    1301.3179   1076.9309   1062.7412    951.7059\n",
      "  841.3917    803.053     749.89087   649.8673    633.5347    614.05505\n",
      "  574.6134    564.2462    543.6414    529.7256    502.11893   491.2583\n",
      "  478.9463    460.3075    451.98743   436.27957   427.82986   419.13297\n",
      "  412.1274    396.96884   375.795     365.1012    360.1176    334.07037\n",
      "  324.3516    313.84503   312.171     307.5968    295.7563    274.36288\n",
      "  255.19221   252.72038   247.48694   233.68004   229.33159   220.67445\n",
      "  219.68626   216.16971   207.17754   193.61823   188.07582   182.3963\n",
      "  166.41339   163.85579   153.4451    148.46584   140.33775   136.9876\n",
      "  133.31758   130.28084   126.10368   121.99384   120.017815  113.81397\n",
      "  111.45072   107.92292   105.623245   99.57911    99.03418    94.42995\n",
      "   89.65794    87.56871    86.02983    84.387314   81.8494     79.08287\n",
      "   78.380104   75.414085   74.243065   71.1787     70.05409    67.40481\n",
      "   66.5504     64.01239    61.93599    60.50309    59.76757    56.735237\n",
      "   55.17849    54.307373   53.824734   53.078888   52.523838   51.250465\n",
      "   50.157177   50.02822    48.445004   47.390198   46.920345   46.100636\n",
      "   45.43851    44.31212    43.926994   42.935223]\n"
     ]
    }
   ],
   "source": [
    "train_feat_tr = pca.fit_transform(train_feat)\n",
    "test_feat_tr = pca.transform(test_feat)\n",
    "print(pca.explained_variance_ratio_)\n",
    "print(pca.singular_values_)"
   ]
  },
  {
   "cell_type": "code",
   "execution_count": 68,
   "metadata": {},
   "outputs": [
    {
     "data": {
      "text/plain": [
       "((66160, 100), (16000, 100))"
      ]
     },
     "execution_count": 68,
     "metadata": {},
     "output_type": "execute_result"
    }
   ],
   "source": [
    "train_feat_tr.shape, test_feat_tr.shape"
   ]
  },
  {
   "cell_type": "code",
   "execution_count": 69,
   "metadata": {},
   "outputs": [
    {
     "name": "stdout",
     "output_type": "stream",
     "text": [
      "1.3698315e-07 -17.328005 27.69034\n",
      "-0.01766345 -16.795797 26.587872\n"
     ]
    }
   ],
   "source": [
    "print(np.mean(train_feat_tr), np.min(train_feat_tr), np.max(train_feat_tr))\n",
    "print(np.mean(test_feat_tr), np.min(test_feat_tr), np.max(test_feat_tr))"
   ]
  },
  {
   "cell_type": "code",
   "execution_count": 70,
   "metadata": {},
   "outputs": [],
   "source": [
    "# max = np.max(train_feat_tr)\n",
    "# train_feat_tr = train_feat_tr / max\n",
    "# test_feat_tr = test_feat_tr / max"
   ]
  },
  {
   "cell_type": "code",
   "execution_count": 71,
   "metadata": {},
   "outputs": [
    {
     "name": "stdout",
     "output_type": "stream",
     "text": [
      "1.3698315e-07 -17.328005 27.69034\n",
      "-0.01766345 -16.795797 26.587872\n"
     ]
    }
   ],
   "source": [
    "print(np.mean(train_feat_tr), np.min(train_feat_tr), np.max(train_feat_tr))\n",
    "print(np.mean(test_feat_tr), np.min(test_feat_tr), np.max(test_feat_tr))"
   ]
  },
  {
   "cell_type": "markdown",
   "metadata": {},
   "source": [
    "### Save"
   ]
  },
  {
   "cell_type": "code",
   "execution_count": 72,
   "metadata": {},
   "outputs": [],
   "source": [
    "save_dir = os.path.join(path_THINGSEEG2, 'preprocessed_data_features/sub-01/')\n",
    "os.makedirs(save_dir, exist_ok=True)\n",
    "\n",
    "np.save(os.path.join(save_dir, 'preprocessed_eeg_training.npy'), train_feat_tr)\n",
    "np.save(os.path.join(save_dir, 'preprocessed_eeg_test.npy'), test_feat_tr)"
   ]
  }
 ],
 "metadata": {
  "kernelspec": {
   "display_name": "Thesis",
   "language": "python",
   "name": "python3"
  },
  "language_info": {
   "codemirror_mode": {
    "name": "ipython",
    "version": 3
   },
   "file_extension": ".py",
   "mimetype": "text/x-python",
   "name": "python",
   "nbconvert_exporter": "python",
   "pygments_lexer": "ipython3",
   "version": "3.10.11"
  },
  "orig_nbformat": 4
 },
 "nbformat": 4,
 "nbformat_minor": 2
}
