{
 "cells": [
  {
   "cell_type": "code",
   "execution_count": 1,
   "metadata": {},
   "outputs": [
    {
     "name": "stderr",
     "output_type": "stream",
     "text": [
      "usage: ipykernel_launcher.py [-h] [-ed EEG_DATASET] [-sp SPLITS_PATH]\n",
      "                             [-sn SPLIT_NUM] [-sub SUBJECT] [-tl TIME_LOW]\n",
      "                             [-th TIME_HIGH] [-mt MODEL_TYPE]\n",
      "                             [-mp [MODEL_PARAMS ...]]\n",
      "                             [--pretrained_net PRETRAINED_NET] [-b BATCH_SIZE]\n",
      "                             [-o OPTIM] [-lr LEARNING_RATE]\n",
      "                             [-lrdb LEARNING_RATE_DECAY_BY]\n",
      "                             [-lrde LEARNING_RATE_DECAY_EVERY]\n",
      "                             [-dw DATA_WORKERS] [-e EPOCHS] [-sc SAVECHECK]\n",
      "                             [--no-cuda]\n",
      "ipykernel_launcher.py: error: unrecognized arguments: --ip=127.0.0.1 --stdin=9008 --control=9006 --hb=9005 --Session.signature_scheme=\"hmac-sha256\" --Session.key=b\"fbbd9e95-c1eb-4cf0-9758-12a05f5f75d3\" --shell=9007 --transport=\"tcp\" --iopub=9009 --f=c:\\Users\\gianl\\AppData\\Roaming\\jupyter\\runtime\\kernel-v2-24928PncIBHFMxeDJ.json\n"
     ]
    },
    {
     "ename": "SystemExit",
     "evalue": "2",
     "output_type": "error",
     "traceback": [
      "An exception has occurred, use %tb to see the full traceback.\n",
      "\u001b[1;31mSystemExit\u001b[0m\u001b[1;31m:\u001b[0m 2\n"
     ]
    },
    {
     "name": "stderr",
     "output_type": "stream",
     "text": [
      "c:\\ProgramData\\Anaconda3\\lib\\site-packages\\IPython\\core\\interactiveshell.py:3452: UserWarning: To exit: use 'exit', 'quit', or Ctrl-D.\n",
      "  warn(\"To exit: use 'exit', 'quit', or Ctrl-D.\", stacklevel=1)\n"
     ]
    }
   ],
   "source": [
    "# Define options\n",
    "import argparse\n",
    "parser = argparse.ArgumentParser(description=\"Template\")\n",
    "# Dataset options\n",
    "\n",
    "#Data - Data needs to be pre-filtered and filtered data is available\n",
    "\n",
    "### BLOCK DESIGN ###\n",
    "#Data\n",
    "#parser.add_argument('-ed', '--eeg-dataset', default=r\"data\\block\\eeg_55_95_std.pth\", help=\"EEG dataset path\") #55-95Hz\n",
    "parser.add_argument('-ed', '--eeg-dataset', default=r\"data\\block\\eeg_5_95_std.pth\", help=\"EEG dataset path\") #5-95Hz\n",
    "#parser.add_argument('-ed', '--eeg-dataset', default=r\"data\\block\\eeg_14_70_std.pth\", help=\"EEG dataset path\") #14-70Hz\n",
    "#Splits\n",
    "parser.add_argument('-sp', '--splits-path', default=r\"data\\block\\block_splits_by_image_all.pth\", help=\"splits path\") #All subjects\n",
    "#parser.add_argument('-sp', '--splits-path', default=r\"data\\block\\block_splits_by_image_single.pth\", help=\"splits path\") #Single subject\n",
    "### BLOCK DESIGN ###\n",
    "\n",
    "parser.add_argument('-sn', '--split-num', default=0, type=int, help=\"split number\") #leave this always to zero.\n",
    "\n",
    "#Subject selecting\n",
    "parser.add_argument('-sub','--subject', default=0   , type=int, help=\"choose a subject from 1 to 6, default is 0 (all subjects)\")\n",
    "\n",
    "#Time options: select from 20 to 460 samples from EEG data\n",
    "parser.add_argument('-tl', '--time_low', default=20, type=float, help=\"lowest time value\")\n",
    "parser.add_argument('-th', '--time_high', default=460,  type=float, help=\"highest time value\")\n",
    "\n",
    "# Model type/options\n",
    "parser.add_argument('-mt','--model_type', default='lstm', help='specify which generator should be used: lstm|EEGChannelNet')\n",
    "# It is possible to test out multiple deep classifiers:\n",
    "# - lstm is the model described in the paper \"Deep Learning Human Mind for Automated Visual Classification”, in CVPR 2017\n",
    "# - model10 is the model described in the paper \"Decoding brain representations by multimodal learning of neural activity and visual features\", TPAMI 2020\n",
    "parser.add_argument('-mp','--model_params', default='', nargs='*', help='list of key=value pairs of model options')\n",
    "parser.add_argument('--pretrained_net', default='', help=\"path to pre-trained net (to continue training)\")\n",
    "\n",
    "# Training options\n",
    "parser.add_argument(\"-b\", \"--batch_size\", default=16, type=int, help=\"batch size\")\n",
    "parser.add_argument('-o', '--optim', default=\"Adam\", help=\"optimizer\")\n",
    "parser.add_argument('-lr', '--learning-rate', default=0.001, type=float, help=\"learning rate\")\n",
    "parser.add_argument('-lrdb', '--learning-rate-decay-by', default=0.5, type=float, help=\"learning rate decay factor\")\n",
    "parser.add_argument('-lrde', '--learning-rate-decay-every', default=10, type=int, help=\"learning rate decay period\")\n",
    "parser.add_argument('-dw', '--data-workers', default=4, type=int, help=\"data loading workers\")\n",
    "parser.add_argument('-e', '--epochs', default=200, type=int, help=\"training epochs\")\n",
    "\n",
    "# Save options\n",
    "parser.add_argument('-sc', '--saveCheck', default=100, type=int, help=\"learning rate\")\n",
    "\n",
    "# Backend options\n",
    "parser.add_argument('--no-cuda', default=False, help=\"disable CUDA\", action=\"store_true\")\n",
    "\n",
    "# Parse arguments\n",
    "opt = parser.parse_args()\n",
    "print(opt)"
   ]
  }
 ],
 "metadata": {
  "kernelspec": {
   "display_name": "base",
   "language": "python",
   "name": "python3"
  },
  "language_info": {
   "codemirror_mode": {
    "name": "ipython",
    "version": 3
   },
   "file_extension": ".py",
   "mimetype": "text/x-python",
   "name": "python",
   "nbconvert_exporter": "python",
   "pygments_lexer": "ipython3",
   "version": "3.9.7"
  },
  "orig_nbformat": 4
 },
 "nbformat": 4,
 "nbformat_minor": 2
}
